{
  "cells": [
    {
      "cell_type": "markdown",
      "metadata": {
        "id": "view-in-github",
        "colab_type": "text"
      },
      "source": [
        "<a href=\"https://colab.research.google.com/github/vverfy/first_repository/blob/main/task7_2.ipynb\" target=\"_parent\"><img src=\"https://colab.research.google.com/assets/colab-badge.svg\" alt=\"Open In Colab\"/></a>"
      ]
    },
    {
      "cell_type": "code",
      "source": [
        "#task7_2(дополнительно)\n",
        "def main(list):\n",
        "  right_list=[]\n",
        "  for a in list:\n",
        "    if check_input(a) == True:\n",
        "      right_list.append(a)\n",
        "  longest= max (right_list, key= len)\n",
        "  for i in range(1, len(list)):\n",
        "    for b in list:\n",
        "      if list[i]==a and a==longest:\n",
        "       return i, get_substring(longest)\n",
        "\n",
        "def check_input(a):\n",
        "  if a==str(a):\n",
        "    return True\n",
        "  else:\n",
        "    return False\n",
        "\n",
        "def get_substring(string):\n",
        "  substring=[]\n",
        "  substring.append(string[0])\n",
        "  for i in range(1, len(string)-1):\n",
        "    if string[i] not in substring:\n",
        "      substring.append(string[i])\n",
        "  return \"\".join(substring)\n",
        "\n",
        "#main([[0, 4, 8], \"abca\", 7, \"aaaaa\"])"
      ],
      "metadata": {
        "colab": {
          "base_uri": "https://localhost:8080/"
        },
        "id": "svT8arF14tqG",
        "outputId": "a2659dce-fadb-4f4c-d353-3d2c5f56c6a5"
      },
      "execution_count": 41,
      "outputs": [
        {
          "output_type": "execute_result",
          "data": {
            "text/plain": [
              "(3, 'ab')"
            ]
          },
          "metadata": {},
          "execution_count": 41
        }
      ]
    }
  ],
  "metadata": {
    "colab": {
      "provenance": [],
      "mount_file_id": "1I0UYrLrLISycK53KvSZ1ASzG1BE0pwPk",
      "authorship_tag": "ABX9TyNsovhup9wVx+e5/DbPULnw",
      "include_colab_link": true
    },
    "kernelspec": {
      "display_name": "Python 3",
      "name": "python3"
    },
    "language_info": {
      "name": "python"
    }
  },
  "nbformat": 4,
  "nbformat_minor": 0
}