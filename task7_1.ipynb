{
  "nbformat": 4,
  "nbformat_minor": 0,
  "metadata": {
    "colab": {
      "provenance": [],
      "mount_file_id": "1z_0pWcKrM5on64tHmOnmFlIF-ZgDUi3u",
      "authorship_tag": "ABX9TyOWyn4Dd+InaSSpirFXBTWR",
      "include_colab_link": true
    },
    "kernelspec": {
      "name": "python3",
      "display_name": "Python 3"
    },
    "language_info": {
      "name": "python"
    }
  },
  "cells": [
    {
      "cell_type": "markdown",
      "metadata": {
        "id": "view-in-github",
        "colab_type": "text"
      },
      "source": [
        "<a href=\"https://colab.research.google.com/github/vverfy/first_repository/blob/main/task7_1.ipynb\" target=\"_parent\"><img src=\"https://colab.research.google.com/assets/colab-badge.svg\" alt=\"Open In Colab\"/></a>"
      ]
    },
    {
      "cell_type": "code",
      "source": [
        "#task2_8(дополнительно)\n",
        "#не успела сделать нормальное задание к дедлайну((\n",
        "name=input()\n",
        "print(f\"Привет, {name}!\")"
      ],
      "metadata": {
        "id": "VmyGM5iDcBxP",
        "colab": {
          "base_uri": "https://localhost:8080/"
        },
        "outputId": "397d9667-bc74-46eb-dfef-c45d7edd3059"
      },
      "execution_count": 2,
      "outputs": [
        {
          "output_type": "stream",
          "name": "stdout",
          "text": [
            "Анна\n",
            "Привет, Анна!\n"
          ]
        }
      ]
    }
  ]
}