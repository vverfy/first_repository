{
  "nbformat": 4,
  "nbformat_minor": 0,
  "metadata": {
    "colab": {
      "provenance": [],
      "authorship_tag": "ABX9TyOSL7upI9cmcoU9VQdBh+LY",
      "include_colab_link": true
    },
    "kernelspec": {
      "name": "python3",
      "display_name": "Python 3"
    },
    "language_info": {
      "name": "python"
    }
  },
  "cells": [
    {
      "cell_type": "markdown",
      "metadata": {
        "id": "view-in-github",
        "colab_type": "text"
      },
      "source": [
        "<a href=\"https://colab.research.google.com/github/vverfy/first_repository/blob/main/task11_4.ipynb\" target=\"_parent\"><img src=\"https://colab.research.google.com/assets/colab-badge.svg\" alt=\"Open In Colab\"/></a>"
      ]
    },
    {
      "cell_type": "code",
      "source": [
        "#task11_4\n",
        "from operator import index\n",
        "from sklearn.model_selection import train_test_split\n",
        "from sklearn.linear_model import LinearRegression\n",
        "from sklearn.metrics import r2_score\n",
        "from sklearn.metrics import root_mean_squared_error\n",
        "import pandas as pd\n",
        "\n",
        "def car_price_prediction(file_name):\n",
        "\n",
        "  data=pd.read_csv(file_name, index_col=0)\n",
        "  data[\"Engine HP\"]=data[\"Engine HP\"].fillna(data[\"Engine HP\"].mean())\n",
        "  data[\"Engine Cylinders\"]=data[\"Engine Cylinders\"].fillna(data[\"Engine Cylinders\"].mean())\n",
        "  data[\"Number of Doors\"]=data[\"Number of Doors\"].fillna(data[\"Number of Doors\"].mean())\n",
        "  index=[\"Year\", \"Engine HP\", \"Engine Cylinders\", \"highway MPG\", \"city mpg\", \"Popularity\"]\n",
        "  features = pd.DataFrame(data[index])\n",
        "  target = data[\"MSRP\"]\n",
        "  features_train, features_test, target_train, target_test = train_test_split( features, target, test_size=0.25)\n",
        "\n",
        "  model = LinearRegression()\n",
        "  model.fit(features_train, target_train)\n",
        "  result = model.predict(features_test)\n",
        "  RMSE=root_mean_squared_error(target_test, result)\n",
        "\n",
        "  dumb_model_result = [target_train.mean()]*len(target_test)\n",
        "  dumb_RMSE=root_mean_squared_error(target_test, dumb_model_result)\n",
        "\n",
        "  return [RMSE, dumb_RMSE, dumb_RMSE-RMSE]\n",
        "\n",
        "car_price_prediction(\"/content/data.csv\")"
      ],
      "metadata": {
        "colab": {
          "base_uri": "https://localhost:8080/"
        },
        "id": "VZ-o5mUN-E14",
        "outputId": "6fce413f-e324-4231-d7b0-f0df96f47d5c"
      },
      "execution_count": 12,
      "outputs": [
        {
          "output_type": "execute_result",
          "data": {
            "text/plain": [
              "(         Year  Engine HP  Engine Cylinders  highway MPG  city mpg  Popularity\n",
              " Make                                                                         \n",
              " BMW      2011      335.0               6.0           26        19        3916\n",
              " BMW      2011      300.0               6.0           28        19        3916\n",
              " BMW      2011      300.0               6.0           28        20        3916\n",
              " BMW      2011      230.0               6.0           28        18        3916\n",
              " BMW      2011      230.0               6.0           28        18        3916\n",
              " ...       ...        ...               ...          ...       ...         ...\n",
              " Acura    2012      300.0               6.0           23        16         204\n",
              " Acura    2012      300.0               6.0           23        16         204\n",
              " Acura    2012      300.0               6.0           23        16         204\n",
              " Acura    2013      300.0               6.0           23        16         204\n",
              " Lincoln  2006      221.0               6.0           26        17          61\n",
              " \n",
              " [11914 rows x 6 columns],\n",
              " [45711.77588890105, 62966.33616784492, 17254.56027894387])"
            ]
          },
          "metadata": {},
          "execution_count": 12
        }
      ]
    }
  ]
}